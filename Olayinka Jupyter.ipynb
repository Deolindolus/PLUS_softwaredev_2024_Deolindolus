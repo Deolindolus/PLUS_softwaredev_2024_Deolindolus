{
 "cells": [
  {
   "cell_type": "code",
   "execution_count": 1,
   "id": "b6a72003",
   "metadata": {},
   "outputs": [],
   "source": [
    "# test"
   ]
  },
  {
   "cell_type": "code",
   "execution_count": 2,
   "id": "939d7b84",
   "metadata": {},
   "outputs": [
    {
     "data": {
      "text/plain": [
       "'\\ndescription\\nwhich\\ncan\\nbe\\nused'"
      ]
     },
     "execution_count": 2,
     "metadata": {},
     "output_type": "execute_result"
    }
   ],
   "source": [
    "'''\n",
    "description\n",
    "which\n",
    "can\n",
    "be\n",
    "used'''"
   ]
  },
  {
   "cell_type": "code",
   "execution_count": 3,
   "id": "12b14613",
   "metadata": {},
   "outputs": [],
   "source": [
    "variable = 24\n",
    "variable_2 = \"This is a text\"\n",
    "variable_3 = \"This is also a test\"\n",
    "variable_4 = 45.7\n",
    "variable_5 = False\n",
    "variable_6 = None"
   ]
  },
  {
   "cell_type": "code",
   "execution_count": 4,
   "id": "fb54be5f",
   "metadata": {},
   "outputs": [
    {
     "data": {
      "text/plain": [
       "False"
      ]
     },
     "execution_count": 4,
     "metadata": {},
     "output_type": "execute_result"
    }
   ],
   "source": [
    "variable_5"
   ]
  },
  {
   "cell_type": "code",
   "execution_count": 5,
   "id": "455f2ba3",
   "metadata": {},
   "outputs": [
    {
     "data": {
      "text/plain": [
       "'This is also a test'"
      ]
     },
     "execution_count": 5,
     "metadata": {},
     "output_type": "execute_result"
    }
   ],
   "source": [
    "variable_3"
   ]
  },
  {
   "cell_type": "code",
   "execution_count": 6,
   "id": "9d334445",
   "metadata": {},
   "outputs": [
    {
     "data": {
      "text/plain": [
       "'This is a text'"
      ]
     },
     "execution_count": 6,
     "metadata": {},
     "output_type": "execute_result"
    }
   ],
   "source": [
    "variable_2"
   ]
  },
  {
   "cell_type": "code",
   "execution_count": 7,
   "id": "43c100b1",
   "metadata": {},
   "outputs": [
    {
     "data": {
      "text/plain": [
       "module"
      ]
     },
     "execution_count": 7,
     "metadata": {},
     "output_type": "execute_result"
    }
   ],
   "source": [
    "import sys\n",
    "type (sys)"
   ]
  },
  {
   "cell_type": "code",
   "execution_count": 8,
   "id": "7f74bc5a",
   "metadata": {},
   "outputs": [
    {
     "name": "stdout",
     "output_type": "stream",
     "text": [
      "this\n",
      "is a very long\n",
      "string\n"
     ]
    },
    {
     "data": {
      "text/plain": [
       "str"
      ]
     },
     "execution_count": 8,
     "metadata": {},
     "output_type": "execute_result"
    }
   ],
   "source": [
    "long_string ='''this\n",
    "is a very long\n",
    "string'''\n",
    "\n",
    "print (long_string)\n",
    "type (long_string)"
   ]
  },
  {
   "cell_type": "code",
   "execution_count": 9,
   "id": "bc1dd3a1",
   "metadata": {},
   "outputs": [],
   "source": [
    "new_v = round (2.8484, 2)"
   ]
  },
  {
   "cell_type": "code",
   "execution_count": 10,
   "id": "3c864b77",
   "metadata": {},
   "outputs": [
    {
     "name": "stdout",
     "output_type": "stream",
     "text": [
      "2.85\n"
     ]
    }
   ],
   "source": [
    "print (new_v)"
   ]
  },
  {
   "cell_type": "code",
   "execution_count": 11,
   "id": "59b61677",
   "metadata": {},
   "outputs": [
    {
     "data": {
      "text/plain": [
       "float"
      ]
     },
     "execution_count": 11,
     "metadata": {},
     "output_type": "execute_result"
    }
   ],
   "source": [
    "y = 4.6\n",
    "type (y)"
   ]
  },
  {
   "cell_type": "code",
   "execution_count": 12,
   "id": "17395493",
   "metadata": {},
   "outputs": [
    {
     "data": {
      "text/plain": [
       "int"
      ]
     },
     "execution_count": 12,
     "metadata": {},
     "output_type": "execute_result"
    }
   ],
   "source": [
    "x = 13\n",
    "type (x)"
   ]
  },
  {
   "cell_type": "code",
   "execution_count": 13,
   "id": "a1ca80d1",
   "metadata": {},
   "outputs": [
    {
     "data": {
      "text/plain": [
       "5"
      ]
     },
     "execution_count": 13,
     "metadata": {},
     "output_type": "execute_result"
    }
   ],
   "source": [
    "round (y)"
   ]
  },
  {
   "cell_type": "code",
   "execution_count": 14,
   "id": "8964b238",
   "metadata": {},
   "outputs": [
    {
     "data": {
      "text/plain": [
       "4"
      ]
     },
     "execution_count": 14,
     "metadata": {},
     "output_type": "execute_result"
    }
   ],
   "source": [
    "z = 4.5\n",
    "round (z)"
   ]
  },
  {
   "cell_type": "code",
   "execution_count": 15,
   "id": "cd19a030",
   "metadata": {},
   "outputs": [
    {
     "data": {
      "text/plain": [
       "int"
      ]
     },
     "execution_count": 15,
     "metadata": {},
     "output_type": "execute_result"
    }
   ],
   "source": [
    "test = round (z)\n",
    "type(test)"
   ]
  },
  {
   "cell_type": "code",
   "execution_count": 16,
   "id": "c251e545",
   "metadata": {},
   "outputs": [
    {
     "name": "stdout",
     "output_type": "stream",
     "text": [
      "['This is a list', 'that contains', 'both string', 'and number: ', 234, 34.56]\n"
     ]
    },
    {
     "data": {
      "text/plain": [
       "list"
      ]
     },
     "execution_count": 16,
     "metadata": {},
     "output_type": "execute_result"
    }
   ],
   "source": [
    "list_1 = [\"This is a list\", \"that contains\" , \"both string\", \"and number: \", 234,34.56]\n",
    "print(list_1)\n",
    "type(list_1)"
   ]
  },
  {
   "cell_type": "code",
   "execution_count": 17,
   "id": "994f2c4c",
   "metadata": {},
   "outputs": [
    {
     "name": "stdout",
     "output_type": "stream",
     "text": [
      "('This is a tuple', 'that contains', 'both string', 'and number: ', 234, 34.56)\n"
     ]
    },
    {
     "data": {
      "text/plain": [
       "tuple"
      ]
     },
     "execution_count": 17,
     "metadata": {},
     "output_type": "execute_result"
    }
   ],
   "source": [
    "tuple_1 = (\"This is a tuple\", \"that contains\" , \"both string\", \"and number: \", 234,34.56)\n",
    "print(tuple_1)\n",
    "type(tuple_1)"
   ]
  },
  {
   "cell_type": "code",
   "execution_count": 18,
   "id": "6b40d985",
   "metadata": {},
   "outputs": [
    {
     "data": {
      "text/plain": [
       "'This is a list'"
      ]
     },
     "execution_count": 18,
     "metadata": {},
     "output_type": "execute_result"
    }
   ],
   "source": [
    "list_1[0]"
   ]
  },
  {
   "cell_type": "code",
   "execution_count": 19,
   "id": "5aac0e2c",
   "metadata": {},
   "outputs": [
    {
     "data": {
      "text/plain": [
       "34.56"
      ]
     },
     "execution_count": 19,
     "metadata": {},
     "output_type": "execute_result"
    }
   ],
   "source": [
    "list_1[5]"
   ]
  },
  {
   "cell_type": "code",
   "execution_count": 20,
   "id": "54d59c90",
   "metadata": {},
   "outputs": [
    {
     "name": "stdout",
     "output_type": "stream",
     "text": [
      "['This is a list', 'that contains', 'both string', 'and number: ', 234, 67]\n"
     ]
    }
   ],
   "source": [
    "list_1[5] = 67\n",
    "print(list_1)"
   ]
  },
  {
   "cell_type": "code",
   "execution_count": 21,
   "id": "5d38a7be",
   "metadata": {},
   "outputs": [
    {
     "ename": "NameError",
     "evalue": "name 'turple_1' is not defined",
     "output_type": "error",
     "traceback": [
      "\u001b[1;31m---------------------------------------------------------------------------\u001b[0m",
      "\u001b[1;31mNameError\u001b[0m                                 Traceback (most recent call last)",
      "\u001b[1;32m~\\AppData\\Local\\Temp\\ipykernel_13056\\1786019560.py\u001b[0m in \u001b[0;36m<cell line: 1>\u001b[1;34m()\u001b[0m\n\u001b[1;32m----> 1\u001b[1;33m \u001b[0mturple_1\u001b[0m\u001b[1;33m[\u001b[0m\u001b[1;36m5\u001b[0m\u001b[1;33m]\u001b[0m \u001b[1;33m=\u001b[0m \u001b[1;36m67\u001b[0m\u001b[1;33m\u001b[0m\u001b[1;33m\u001b[0m\u001b[0m\n\u001b[0m",
      "\u001b[1;31mNameError\u001b[0m: name 'turple_1' is not defined"
     ]
    }
   ],
   "source": [
    "turple_1[5] = 67"
   ]
  },
  {
   "cell_type": "code",
   "execution_count": 22,
   "id": "6a44fe43",
   "metadata": {},
   "outputs": [],
   "source": [
    "this_dict = {\n",
    "    \"name\": \"Jupyter\",\n",
    "    \"style\": \"Lab\" ,\n",
    "    \"version\": 3.3\n",
    "    \n",
    "}"
   ]
  },
  {
   "cell_type": "code",
   "execution_count": 23,
   "id": "ec8277fe",
   "metadata": {},
   "outputs": [
    {
     "data": {
      "text/plain": [
       "'Jupyter'"
      ]
     },
     "execution_count": 23,
     "metadata": {},
     "output_type": "execute_result"
    }
   ],
   "source": [
    "this_dict[\"name\"]"
   ]
  },
  {
   "cell_type": "code",
   "execution_count": 24,
   "id": "f19b1aa3",
   "metadata": {},
   "outputs": [],
   "source": [
    "#\n",
    "empty_str = \"\"\n",
    "empty_int = int()\n",
    "empty_float = float()\n",
    "empty_list = []\n",
    "empty_tuple = ()\n",
    "empty_dict = {}"
   ]
  },
  {
   "cell_type": "code",
   "execution_count": 26,
   "id": "07b85cfc",
   "metadata": {},
   "outputs": [
    {
     "name": "stdout",
     "output_type": "stream",
     "text": [
      "<class 'str'> <class 'int'> <class 'float'> <class 'list'> <class 'tuple'> <class 'dict'>\n"
     ]
    }
   ],
   "source": [
    "print(\n",
    "type(empty_str), type(empty_int),\n",
    "type(empty_float), type(empty_list),\n",
    "type(empty_tuple), type(empty_dict)    \n",
    ")"
   ]
  },
  {
   "cell_type": "code",
   "execution_count": 27,
   "id": "b58e2ec2",
   "metadata": {},
   "outputs": [
    {
     "name": "stdout",
     "output_type": "stream",
     "text": [
      "b is greater than a\n"
     ]
    }
   ],
   "source": [
    "a = 33\n",
    "b = 200\n",
    "if b > a:\n",
    "    print(\"b is greater than a\")"
   ]
  },
  {
   "cell_type": "code",
   "execution_count": 28,
   "id": "9df51195",
   "metadata": {},
   "outputs": [
    {
     "name": "stdout",
     "output_type": "stream",
     "text": [
      "b is greater than a\n"
     ]
    }
   ],
   "source": [
    "a = 33\n",
    "b = 200\n",
    "if b > a:\n",
    "    print(\"b is greater than a\")\n",
    "else:\n",
    "    a +=1\n",
    "    print(\"a is less than b, let's add 1\")\n",
    "    print (a)"
   ]
  },
  {
   "cell_type": "code",
   "execution_count": 30,
   "id": "c58583aa",
   "metadata": {},
   "outputs": [
    {
     "name": "stdout",
     "output_type": "stream",
     "text": [
      "apple\n",
      "banana\n",
      "cherry\n"
     ]
    }
   ],
   "source": [
    "fruits= [\"apple\", \"banana\", \"cherry\"]\n",
    "for x in fruits:\n",
    "    print(x)"
   ]
  },
  {
   "cell_type": "code",
   "execution_count": 31,
   "id": "6aee433a",
   "metadata": {},
   "outputs": [
    {
     "name": "stdout",
     "output_type": "stream",
     "text": [
      "3\n",
      "4\n",
      "5\n",
      "6\n",
      "7\n",
      "8\n",
      "9\n"
     ]
    }
   ],
   "source": [
    "a = 3\n",
    "while a < 10:\n",
    "    print(a)\n",
    "    a = a + 1"
   ]
  },
  {
   "cell_type": "code",
   "execution_count": null,
   "id": "59b4dd68",
   "metadata": {},
   "outputs": [],
   "source": []
  }
 ],
 "metadata": {
  "kernelspec": {
   "display_name": "Python 3 (ipykernel)",
   "language": "python",
   "name": "python3"
  },
  "language_info": {
   "codemirror_mode": {
    "name": "ipython",
    "version": 3
   },
   "file_extension": ".py",
   "mimetype": "text/x-python",
   "name": "python",
   "nbconvert_exporter": "python",
   "pygments_lexer": "ipython3",
   "version": "3.9.18"
  }
 },
 "nbformat": 4,
 "nbformat_minor": 5
}
