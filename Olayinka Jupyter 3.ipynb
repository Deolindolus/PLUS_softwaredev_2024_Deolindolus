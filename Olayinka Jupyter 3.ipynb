{
 "cells": [
  {
   "cell_type": "code",
   "execution_count": 5,
   "id": "4d8194b2",
   "metadata": {},
   "outputs": [],
   "source": [
    "import olayinka"
   ]
  },
  {
   "cell_type": "code",
   "execution_count": 6,
   "id": "5320fb1d",
   "metadata": {},
   "outputs": [
    {
     "data": {
      "text/plain": [
       "'Work'"
      ]
     },
     "execution_count": 6,
     "metadata": {},
     "output_type": "execute_result"
    }
   ],
   "source": [
    "olayinka.variable"
   ]
  },
  {
   "cell_type": "code",
   "execution_count": 7,
   "id": "d0f07663",
   "metadata": {},
   "outputs": [
    {
     "name": "stdout",
     "output_type": "stream",
     "text": [
      "michael\n"
     ]
    }
   ],
   "source": [
    "olayinka.olayinka(\"michael\")"
   ]
  },
  {
   "cell_type": "code",
   "execution_count": null,
   "id": "b92fbc0f",
   "metadata": {},
   "outputs": [],
   "source": []
  },
  {
   "cell_type": "code",
   "execution_count": null,
   "id": "0531e5f6",
   "metadata": {},
   "outputs": [],
   "source": []
  }
 ],
 "metadata": {
  "kernelspec": {
   "display_name": "Python 3 (ipykernel)",
   "language": "python",
   "name": "python3"
  },
  "language_info": {
   "codemirror_mode": {
    "name": "ipython",
    "version": 3
   },
   "file_extension": ".py",
   "mimetype": "text/x-python",
   "name": "python",
   "nbconvert_exporter": "python",
   "pygments_lexer": "ipython3",
   "version": "3.9.18"
  }
 },
 "nbformat": 4,
 "nbformat_minor": 5
}
